{
  "cells": [
    {
      "cell_type": "markdown",
      "metadata": {
        "id": "Xt-ZP3OhxrMH"
      },
      "source": [
        "### Imported necessaries libraries"
      ]
    },
    {
      "cell_type": "code",
      "execution_count": 517,
      "metadata": {
        "id": "Pe2bKjw1lkPE"
      },
      "outputs": [],
      "source": [
        "import numpy as np\n",
        "import matplotlib.pyplot as plt\n",
        "from sklearn.model_selection import train_test_split # Split dataset into training and testing sets"
      ]
    },
    {
      "cell_type": "markdown",
      "metadata": {
        "id": "DtHZOO3Jx4JR"
      },
      "source": [
        "### Generate synthetic dataset with three distinct classes"
      ]
    },
    {
      "cell_type": "code",
      "execution_count": 518,
      "metadata": {
        "id": "uDAmFEKDlqv9"
      },
      "outputs": [],
      "source": [
        "np.random.seed(0)\n",
        "X = np.random.randn(500, 2)  # 500 samples, 2 features\n",
        "Y = np.random.randint(0, 3, (500, 1))  # 3 classes"
      ]
    },
    {
      "cell_type": "markdown",
      "metadata": {
        "id": "4G03SGpByLka"
      },
      "source": [
        "### Neural Network class for multi-class classification"
      ]
    },
    {
      "cell_type": "code",
      "execution_count": 519,
      "metadata": {
        "id": "x5VxftB9kIdi"
      },
      "outputs": [],
      "source": [
        "class NeuralNetwork(object):\n",
        "    def __init__(self):\n",
        "        inputLayerNeurons = 2\n",
        "        hiddenLayerNeurons1 = 20\n",
        "        hiddenLayerNeurons2 = 15\n",
        "        hiddenLayerNeurons3 = 10\n",
        "        outLayerNeurons = 3  # 3 output neurons for 3 classes\n",
        "\n",
        "        self.learning_rate = 0.3\n",
        "        self.W_HI1 = np.random.randn(inputLayerNeurons, hiddenLayerNeurons1)\n",
        "        self.W_HI2 = np.random.randn(hiddenLayerNeurons1, hiddenLayerNeurons2)\n",
        "        self.W_HI3 = np.random.randn(hiddenLayerNeurons2, hiddenLayerNeurons3)\n",
        "        self.W_OH = np.random.randn(hiddenLayerNeurons3, outLayerNeurons)\n",
        "\n",
        "    def sigmoid(self, x, der=False):\n",
        "        if der == True:\n",
        "            return x * (1 - x)\n",
        "        else:\n",
        "            return 1 / (1 + np.exp(-x))\n",
        "\n",
        "    def feedForward(self, X):\n",
        "        hidden_input1 = np.dot(X, self.W_HI1)\n",
        "        self.hidden_output1 = self.sigmoid(hidden_input1)\n",
        "\n",
        "        hidden_input2 = np.dot(self.hidden_output1, self.W_HI2)\n",
        "        self.hidden_output2 = self.sigmoid(hidden_input2)\n",
        "\n",
        "        hidden_input3 = np.dot(self.hidden_output2, self.W_HI3)\n",
        "        self.hidden_output3 = self.sigmoid(hidden_input3)\n",
        "\n",
        "        output_input = np.dot(self.hidden_output3, self.W_OH)\n",
        "        pred = self.sigmoid(output_input)\n",
        "        return pred\n",
        "\n",
        "    def backPropagation(self, X, Y, pred):\n",
        "        output_error = Y - pred\n",
        "        output_delta = self.learning_rate * output_error * self.sigmoid(pred, der=True)\n",
        "\n",
        "        hidden_error3 = output_delta.dot(self.W_OH.T)\n",
        "        hidden_delta3 = self.learning_rate * hidden_error3 * self.sigmoid(self.hidden_output3, der=True)\n",
        "\n",
        "        hidden_error2 = hidden_delta3.dot(self.W_HI3.T)\n",
        "        hidden_delta2 = self.learning_rate * hidden_error2 * self.sigmoid(self.hidden_output2, der=True)\n",
        "\n",
        "        hidden_error1 = hidden_delta2.dot(self.W_HI2.T)\n",
        "        hidden_delta1 = self.learning_rate * hidden_error1 * self.sigmoid(self.hidden_output1, der=True)\n",
        "\n",
        "        self.W_HI1 += X.T.dot(hidden_delta1)\n",
        "        self.W_HI2 += self.hidden_output1.T.dot(hidden_delta2)\n",
        "        self.W_HI3 += self.hidden_output2.T.dot(hidden_delta3)\n",
        "        self.W_OH += self.hidden_output3.T.dot(output_delta)\n",
        "\n",
        "    def train(self, X, Y):\n",
        "        output = self.feedForward(X)\n",
        "        self.backPropagation(X, Y, output)"
      ]
    },
    {
      "cell_type": "markdown",
      "metadata": {
        "id": "HBY0YCj3yjiE"
      },
      "source": [
        "### Convert Y to one-hot encoding and Train the neural network model"
      ]
    },
    {
      "cell_type": "code",
      "execution_count": 520,
      "metadata": {
        "colab": {
          "base_uri": "https://localhost:8080/"
        },
        "id": "JOG_Ieivkwbt",
        "outputId": "956465f1-2521-49de-bdef-99f08b39a114"
      },
      "outputs": [
        {
          "output_type": "stream",
          "name": "stdout",
          "text": [
            "Epoch: 0/10000, Training Loss: 0.40519475339186234\n",
            "Epoch: 100/10000, Training Loss: 0.2191448759791869\n",
            "Epoch: 200/10000, Training Loss: 0.21614431888416438\n",
            "Epoch: 300/10000, Training Loss: 0.21570847454601827\n",
            "Epoch: 400/10000, Training Loss: 0.2142241905948493\n",
            "Epoch: 500/10000, Training Loss: 0.2126330742907196\n",
            "Epoch: 600/10000, Training Loss: 0.2092500446879039\n",
            "Epoch: 700/10000, Training Loss: 0.20770020256282365\n",
            "Epoch: 800/10000, Training Loss: 0.20697499024269944\n",
            "Epoch: 900/10000, Training Loss: 0.20575049480931074\n",
            "Epoch: 1000/10000, Training Loss: 0.20493018051806572\n",
            "Epoch: 1100/10000, Training Loss: 0.2038571852104582\n",
            "Epoch: 1200/10000, Training Loss: 0.2031551178638638\n",
            "Epoch: 1300/10000, Training Loss: 0.20296512735410965\n",
            "Epoch: 1400/10000, Training Loss: 0.2018448525786647\n",
            "Epoch: 1500/10000, Training Loss: 0.20126671143576844\n",
            "Epoch: 1600/10000, Training Loss: 0.20017826301457972\n",
            "Epoch: 1700/10000, Training Loss: 0.20050533318471153\n",
            "Epoch: 1800/10000, Training Loss: 0.1978057734136144\n",
            "Epoch: 1900/10000, Training Loss: 0.1976731307817798\n",
            "Epoch: 2000/10000, Training Loss: 0.19642023733391545\n",
            "Epoch: 2100/10000, Training Loss: 0.19717877590826943\n",
            "Epoch: 2200/10000, Training Loss: 0.1936300974047539\n",
            "Epoch: 2300/10000, Training Loss: 0.19187674797926244\n",
            "Epoch: 2400/10000, Training Loss: 0.19054215145363448\n",
            "Epoch: 2500/10000, Training Loss: 0.19076498697099395\n",
            "Epoch: 2600/10000, Training Loss: 0.18831391075232917\n",
            "Epoch: 2700/10000, Training Loss: 0.1871027582015815\n",
            "Epoch: 2800/10000, Training Loss: 0.1883177349584379\n",
            "Epoch: 2900/10000, Training Loss: 0.18681992025450667\n",
            "Epoch: 3000/10000, Training Loss: 0.19195397770393796\n",
            "Epoch: 3100/10000, Training Loss: 0.18321736995303123\n",
            "Epoch: 3200/10000, Training Loss: 0.18249788470358194\n",
            "Epoch: 3300/10000, Training Loss: 0.1866977237368415\n",
            "Epoch: 3400/10000, Training Loss: 0.1821256605601673\n",
            "Epoch: 3500/10000, Training Loss: 0.18161482042390006\n",
            "Epoch: 3600/10000, Training Loss: 0.18137256087887302\n",
            "Epoch: 3700/10000, Training Loss: 0.1831651169830921\n",
            "Epoch: 3800/10000, Training Loss: 0.18230724670215173\n",
            "Epoch: 3900/10000, Training Loss: 0.17916827844844177\n",
            "Epoch: 4000/10000, Training Loss: 0.17872924909758436\n",
            "Epoch: 4100/10000, Training Loss: 0.1809835888404019\n",
            "Epoch: 4200/10000, Training Loss: 0.18068665730868277\n",
            "Epoch: 4300/10000, Training Loss: 0.17939126793931384\n",
            "Epoch: 4400/10000, Training Loss: 0.17754358688309785\n",
            "Epoch: 4500/10000, Training Loss: 0.17722237784111877\n",
            "Epoch: 4600/10000, Training Loss: 0.17399144764545782\n",
            "Epoch: 4700/10000, Training Loss: 0.17441045737134395\n",
            "Epoch: 4800/10000, Training Loss: 0.1728892419911982\n",
            "Epoch: 4900/10000, Training Loss: 0.17915101371314004\n",
            "Epoch: 5000/10000, Training Loss: 0.17095749184888173\n",
            "Epoch: 5100/10000, Training Loss: 0.1729820704223743\n",
            "Epoch: 5200/10000, Training Loss: 0.17118733483592694\n",
            "Epoch: 5300/10000, Training Loss: 0.17185631352820888\n",
            "Epoch: 5400/10000, Training Loss: 0.17277089857970718\n",
            "Epoch: 5500/10000, Training Loss: 0.16876199811537798\n",
            "Epoch: 5600/10000, Training Loss: 0.17708553800614704\n",
            "Epoch: 5700/10000, Training Loss: 0.1687486385722009\n",
            "Epoch: 5800/10000, Training Loss: 0.1670702337818987\n",
            "Epoch: 5900/10000, Training Loss: 0.16829596118360587\n",
            "Epoch: 6000/10000, Training Loss: 0.17360344818971482\n",
            "Epoch: 6100/10000, Training Loss: 0.16530423010579115\n",
            "Epoch: 6200/10000, Training Loss: 0.16853104416113796\n",
            "Epoch: 6300/10000, Training Loss: 0.16883743547927932\n",
            "Epoch: 6400/10000, Training Loss: 0.16490431305637546\n",
            "Epoch: 6500/10000, Training Loss: 0.16591150485799064\n",
            "Epoch: 6600/10000, Training Loss: 0.16792338127930567\n",
            "Epoch: 6700/10000, Training Loss: 0.16566461058905102\n",
            "Epoch: 6800/10000, Training Loss: 0.1777032991259069\n",
            "Epoch: 6900/10000, Training Loss: 0.164881482107005\n",
            "Epoch: 7000/10000, Training Loss: 0.16825258876925023\n",
            "Epoch: 7100/10000, Training Loss: 0.16601311825030465\n",
            "Epoch: 7200/10000, Training Loss: 0.1660558100240949\n",
            "Epoch: 7300/10000, Training Loss: 0.1736638820150007\n",
            "Epoch: 7400/10000, Training Loss: 0.16868606466297612\n",
            "Epoch: 7500/10000, Training Loss: 0.16527431487792002\n",
            "Epoch: 7600/10000, Training Loss: 0.16232374686915327\n",
            "Epoch: 7700/10000, Training Loss: 0.1611173888244457\n",
            "Epoch: 7800/10000, Training Loss: 0.16477913521017215\n",
            "Epoch: 7900/10000, Training Loss: 0.15881099068136573\n",
            "Epoch: 8000/10000, Training Loss: 0.16160305250963822\n",
            "Epoch: 8100/10000, Training Loss: 0.16116736008485447\n",
            "Epoch: 8200/10000, Training Loss: 0.1579160763336688\n",
            "Epoch: 8300/10000, Training Loss: 0.1629564221343979\n",
            "Epoch: 8400/10000, Training Loss: 0.1623868716383634\n",
            "Epoch: 8500/10000, Training Loss: 0.1616069176961461\n",
            "Epoch: 8600/10000, Training Loss: 0.16268380810191313\n",
            "Epoch: 8700/10000, Training Loss: 0.16340788044567492\n",
            "Epoch: 8800/10000, Training Loss: 0.16602615075287613\n",
            "Epoch: 8900/10000, Training Loss: 0.15646550413224855\n",
            "Epoch: 9000/10000, Training Loss: 0.16435164591939344\n",
            "Epoch: 9100/10000, Training Loss: 0.15845956393409688\n",
            "Epoch: 9200/10000, Training Loss: 0.15794390666104216\n",
            "Epoch: 9300/10000, Training Loss: 0.15951119897166638\n",
            "Epoch: 9400/10000, Training Loss: 0.15811145900720325\n",
            "Epoch: 9500/10000, Training Loss: 0.16048948653014983\n",
            "Epoch: 9600/10000, Training Loss: 0.1649004860657496\n",
            "Epoch: 9700/10000, Training Loss: 0.1625433090856933\n",
            "Epoch: 9800/10000, Training Loss: 0.1587611544195851\n",
            "Epoch: 9900/10000, Training Loss: 0.16489712583758953\n"
          ]
        }
      ],
      "source": [
        "X_train, X_test, Y_train, Y_test = train_test_split(X, Y, test_size=0.2, random_state=42)\n",
        "\n",
        "# Convert Y to one-hot encoding\n",
        "Y_train_one_hot = np.zeros((Y_train.size, 3))\n",
        "Y_train_one_hot[np.arange(Y_train.size), Y_train.flatten()] = 1\n",
        "\n",
        "# Train the neural network\n",
        "NN = NeuralNetwork()\n",
        "err = []\n",
        "epochs = 10000\n",
        "for i in range(epochs):\n",
        "    NN.train(X_train, Y_train_one_hot)\n",
        "    loss = np.mean(np.square(Y_train_one_hot - NN.feedForward(X_train)))\n",
        "    err.append(loss)\n",
        "\n",
        "    # Print epoch and training loss\n",
        "    if i % 100 == 0:  # Print every 100 epochs\n",
        "        print(f\"Epoch: {i}/10000, Training Loss: {loss}\")"
      ]
    },
    {
      "cell_type": "markdown",
      "metadata": {
        "id": "EOVyG8pC2137"
      },
      "source": [
        "### Visual representation Epoch vs Training loss"
      ]
    },
    {
      "cell_type": "code",
      "execution_count": 521,
      "metadata": {
        "colab": {
          "base_uri": "https://localhost:8080/",
          "height": 504
        },
        "id": "0BYe0pWpy7_c",
        "outputId": "cea281cc-f982-4983-848a-b7d84d6adb5f"
      },
      "outputs": [
        {
          "output_type": "execute_result",
          "data": {
            "text/plain": [
              "<matplotlib.legend.Legend at 0x7995e1c63ee0>"
            ]
          },
          "metadata": {},
          "execution_count": 521
        },
        {
          "output_type": "display_data",
          "data": {
            "text/plain": [
              "<Figure size 1200x500 with 1 Axes>"
            ],
            "image/png": "[encoded data removed]"
          },
          "metadata": {}
        }
      ],
      "source": [
        "# Plot epoch vs training loss\n",
        "plt.figure(figsize=(12, 5))\n",
        "plt.subplot(1, 2, 1)\n",
        "plt.plot(range(epochs), err, label=\"Training Loss\")\n",
        "plt.xlabel(\"Epoch\")\n",
        "plt.ylabel(\"Training Loss\")\n",
        "plt.title(\"Epoch vs Training Loss\")\n",
        "plt.legend()"
      ]
    },
    {
      "cell_type": "markdown",
      "metadata": {
        "id": "rXGrw_U-3MH6"
      },
      "source": [
        "### Evaluate Neural Network model with testing data"
      ]
    },
    {
      "cell_type": "code",
      "execution_count": 522,
      "metadata": {
        "id": "OFCKpNqezBMz"
      },
      "outputs": [],
      "source": [
        "# Evaluate performance using testing data\n",
        "predictions = NN.feedForward(X_test)\n",
        "predicted_classes = np.argmax(predictions, axis=1)  # Get the predicted class indices\n",
        "actual_classes = np.squeeze(Y_test)  # Convert Y_test to a 1D array"
      ]
    },
    {
      "cell_type": "markdown",
      "metadata": {
        "id": "b-BCVBxH3j_H"
      },
      "source": [
        "### Accuracy Calculate"
      ]
    },
    {
      "cell_type": "code",
      "execution_count": 523,
      "metadata": {
        "id": "mzbo7FMd3mnB",
        "colab": {
          "base_uri": "https://localhost:8080/"
        },
        "outputId": "40c2b646-d01d-440d-b81f-d255b9d8a52f"
      },
      "outputs": [
        {
          "output_type": "stream",
          "name": "stdout",
          "text": [
            "Accuracy: 42.00%\n"
          ]
        }
      ],
      "source": [
        "# Calculate accuracy\n",
        "accuracy = np.mean(predicted_classes == actual_classes)\n",
        "print(f\"Accuracy: {accuracy * 100:.2f}%\")"
      ]
    },
    {
      "cell_type": "markdown",
      "metadata": {
        "id": "Dp0Id4ib36pf"
      },
      "source": [
        "### Visual representation"
      ]
    },
    {
      "cell_type": "code",
      "execution_count": 524,
      "metadata": {
        "colab": {
          "base_uri": "https://localhost:8080/",
          "height": 507
        },
        "id": "aPK8zcWWlDTv",
        "outputId": "62656fdb-16c5-4292-90e1-59ad8d31195d"
      },
      "outputs": [
        {
          "output_type": "display_data",
          "data": {
            "text/plain": [
              "<Figure size 1200x500 with 1 Axes>"
            ],
            "image/png": "[encoded data removed]"
          },
          "metadata": {}
        }
      ],
      "source": [
        "# Scatter plot for classified output\n",
        "plt.figure(figsize=(12, 5))\n",
        "plt.subplot(1, 2, 2)\n",
        "plt.scatter(X_test[predicted_classes == 0, 0], X_test[predicted_classes == 0, 1], label=f\"Class {0}\", marker='o')\n",
        "plt.scatter(X_test[predicted_classes == 1, 0], X_test[predicted_classes == 1, 1], label=f\"Class {1}\", marker='+')\n",
        "plt.scatter(X_test[predicted_classes == 2, 0], X_test[predicted_classes == 2, 1], label=f\"Class {2}\", marker='^')\n",
        "plt.xlabel(\"Feature 1(X1)\")\n",
        "plt.ylabel(\"Feature 2(X2)\")\n",
        "plt.title(\"Classification Output\")\n",
        "plt.legend()\n",
        "\n",
        "plt.tight_layout()\n",
        "plt.show()"
      ]
    }
  ],
  "metadata": {
    "colab": {
      "provenance": []
    },
    "kernelspec": {
      "display_name": "Python 3",
      "name": "python3"
    },
    "language_info": {
      "name": "python"
    }
  },
  "nbformat": 4,
  "nbformat_minor": 0
}